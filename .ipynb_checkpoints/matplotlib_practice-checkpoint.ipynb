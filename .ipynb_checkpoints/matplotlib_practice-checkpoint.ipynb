{
 "cells": [
  {
   "cell_type": "code",
   "execution_count": 2,
   "id": "f0c1ab0c",
   "metadata": {},
   "outputs": [],
   "source": [
    "%matplotlib inline"
   ]
  },
  {
   "cell_type": "code",
   "execution_count": 3,
   "id": "2a0d1bad",
   "metadata": {},
   "outputs": [],
   "source": [
    "# Import dependencies.\n",
    "import matplotlib.pyplot as plt"
   ]
  },
  {
   "cell_type": "code",
   "execution_count": 4,
   "id": "3c6820ef",
   "metadata": {},
   "outputs": [],
   "source": [
    "savings = [0,100,200,258,300,500]\n",
    "months = [\"Jan\",\"Feb\",\"Mar\",\"Apr\",\"May\",\"Jun\"]"
   ]
  },
  {
   "cell_type": "code",
   "execution_count": 5,
   "id": "5d6168be",
   "metadata": {},
   "outputs": [
    {
     "ename": "SyntaxError",
     "evalue": "invalid syntax (<ipython-input-5-9a2ac9af7ad5>, line 1)",
     "output_type": "error",
     "traceback": [
      "\u001b[0;36m  File \u001b[0;32m\"<ipython-input-5-9a2ac9af7ad5>\"\u001b[0;36m, line \u001b[0;32m1\u001b[0m\n\u001b[0;31m    matplotlib version\u001b[0m\n\u001b[0m               ^\u001b[0m\n\u001b[0;31mSyntaxError\u001b[0m\u001b[0;31m:\u001b[0m invalid syntax\n"
     ]
    }
   ],
   "source": [
    "# Create the plot\n",
    "plt.plot(months,savings)\n",
    "plt.xlabel(\"Month\")\n",
    "plt.ylabel(\"Savings ($)\")\n",
    "plt.title (\"Savings\")\n",
    "plt.show()"
   ]
  },
  {
   "cell_type": "code",
   "execution_count": null,
   "id": "af4c3b5e",
   "metadata": {},
   "outputs": [],
   "source": [
    "# Set the x-axis to a list of strings for each month.\n",
    "x_axis = [\"Jan\", \"Feb\", \"Mar\", \"April\", \"May\", \"June\", \"July\", \"Aug\", \"Sept\", \"Oct\", \"Nov\", \"Dec\"]\n",
    "\n",
    "# Set the y-axis to a list of floats as the total fare in US dollars accumulated for each month.\n",
    "y_axis = [10.02, 23.24, 39.20, 35.42, 32.34, 27.04, 43.82, 10.56, 11.85, 27.90, 20.71, 20.09]"
   ]
  },
  {
   "cell_type": "code",
   "execution_count": null,
   "id": "939bff93",
   "metadata": {},
   "outputs": [],
   "source": [
    "# Create the plot\n",
    "plt.plot(x_axis, y_axis)"
   ]
  },
  {
   "cell_type": "code",
   "execution_count": null,
   "id": "a51e8f28",
   "metadata": {},
   "outputs": [],
   "source": [
    "# Create the plot with ax.plt()\n",
    "fig, ax = plt.subplots()\n",
    "ax.plot(x_axis, y_axis)"
   ]
  },
  {
   "cell_type": "code",
   "execution_count": null,
   "id": "d6f48aab",
   "metadata": {},
   "outputs": [],
   "source": [
    "# Create the plot with ax.plt()\n",
    "fig = plt.figure()\n",
    "ax = fig.add_subplot()"
   ]
  },
  {
   "cell_type": "code",
   "execution_count": null,
   "id": "fde0cb1a",
   "metadata": {},
   "outputs": [],
   "source": [
    "# Create the plot with ax.plt()\n",
    "fig = plt.figure()\n",
    "ax = fig.add_subplot()\n",
    "ax.plot(x_axis, y_axis)"
   ]
  },
  {
   "cell_type": "code",
   "execution_count": null,
   "id": "6ffcea73",
   "metadata": {},
   "outputs": [],
   "source": [
    "# Create the plot with ax.plt()\n",
    "ax = plt.axes()\n",
    "ax.plot(x_axis, y_axis)"
   ]
  },
  {
   "cell_type": "code",
   "execution_count": null,
   "id": "743a09ad",
   "metadata": {},
   "outputs": [],
   "source": [
    "# Create the plot and add a label for the legend.\n",
    "plt.plot(x_axis, y_axis, label='Boston')\n",
    "# Create labels for the x and y axes.\n",
    "plt.xlabel(\"Date\")\n",
    "plt.ylabel(\"Fare($)\")\n",
    "# Set the y limit between 0 and 45.\n",
    "plt.ylim(0, 45)\n",
    "# Create a title.\n",
    "plt.title(\"PyBer Fare by Month\")\n",
    "# Add the legend.\n",
    "plt.legend()"
   ]
  },
  {
   "cell_type": "code",
   "execution_count": null,
   "id": "515d1a04",
   "metadata": {},
   "outputs": [],
   "source": [
    "# Create the plot.\n",
    "plt.plot(x_axis, y_axis, marker=\"*\", color=\"blue\", linewidth=2, label='Boston')\n",
    "# Create labels for the x and y axes.\n",
    "plt.xlabel(\"Date\")\n",
    "plt.ylabel(\"Fare($)\")\n",
    "# Set the y limit between 0 and 45.\n",
    "plt.ylim(0, 45)\n",
    "# Create a title.\n",
    "plt.title(\"PyBer Fare by Month\")\n",
    "# Add a grid.\n",
    "plt.grid()\n",
    "# Add the legend.\n",
    "plt.legend()"
   ]
  },
  {
   "cell_type": "code",
   "execution_count": null,
   "id": "197c20cc",
   "metadata": {},
   "outputs": [],
   "source": [
    "# skill Drill. The plot.\n",
    "plt.plot(x_axis, y_axis, marker=\"D\", color=\"green\", linewidth=4, label='Boston')\n",
    "# Create labels for the x and y axes.\n",
    "plt.xlabel(\"Date\")\n",
    "plt.ylabel(\"Fare($)\")\n",
    "# Set the y limit between 0 and 45.\n",
    "plt.ylim(0, 45)\n",
    "# Create a title.\n",
    "plt.title(\"PyBer Fare by Month\")\n",
    "# Add a grid.\n",
    "plt.grid()\n",
    "# Add the legend.\n",
    "plt.legend()"
   ]
  },
  {
   "cell_type": "code",
   "execution_count": null,
   "id": "3e6f05fb",
   "metadata": {},
   "outputs": [],
   "source": [
    "# Set the x-axis to a list of strings for each month.\n",
    "x_axis = [\"Jan\", \"Feb\", \"Mar\", \"April\", \"May\", \"June\", \"July\", \"Aug\", \"Sept\", \"Oct\", \"Nov\", \"Dec\"]\n",
    "\n",
    "# Set the y-axis to a list of floats as the total fare in US dollars accumulated for each month.\n",
    "y_axis = [10.02, 23.24, 39.20, 35.42, 32.34, 27.04, 43.82, 10.56, 11.85, 27.90, 20.71, 20.09]\n"
   ]
  },
  {
   "cell_type": "code",
   "execution_count": null,
   "id": "cdf77a64",
   "metadata": {},
   "outputs": [],
   "source": [
    "# Create the plot.\n",
    "plt.bar(x_axis, y_axis, color=\"green\", label='Boston')\n",
    "# Create labels for the x and y axes.\n",
    "plt.xlabel(\"Date\")\n",
    "plt.ylabel(\"Fare($)\")\n",
    "# Create a title.\n",
    "plt.title(\"PyBer Fare by Month\")\n",
    "# Add the legend.\n",
    "plt.legend()"
   ]
  },
  {
   "cell_type": "code",
   "execution_count": null,
   "id": "62637d41",
   "metadata": {},
   "outputs": [],
   "source": [
    "# Create the plot.\n",
    "plt.barh(x_axis, y_axis, color=\"deeppink\", label='Boston')\n",
    "plt.gca().invert_yaxis()\n",
    "# Create labels for the x and y axes.\n",
    "plt.xlabel(\"Date\")\n",
    "plt.ylabel(\"Fare($)\")\n",
    "# Create a title.\n",
    "plt.title(\"PyBer Fare by Month\")\n",
    "# Add the legend\n",
    "plt.legend()"
   ]
  },
  {
   "cell_type": "code",
   "execution_count": null,
   "id": "2715244f",
   "metadata": {},
   "outputs": [],
   "source": [
    "# Create Bar Charts Using the Object-Oriented Approach. Set the x-axis to a list of strings for each month.\n",
    "x_axis = [\"Jan\", \"Feb\", \"Mar\", \"April\", \"May\", \"June\", \"July\", \"Aug\", \"Sept\", \"Oct\", \"Nov\", \"Dec\"]\n",
    "\n",
    "# Set the y-axis to a list of floats as the total fare in US dollars accumulated for each month.\n",
    "y_axis = [10.02, 23.24, 39.20, 35.42, 32.34, 27.04, 43.82, 10.56, 11.85, 27.90, 20.71, 20.09]"
   ]
  },
  {
   "cell_type": "code",
   "execution_count": null,
   "id": "6c26c4a4",
   "metadata": {},
   "outputs": [],
   "source": [
    "# Create the plot with ax.plt()\n",
    "fig, ax = plt.subplots()\n",
    "ax.bar(x_axis, y_axis)"
   ]
  },
  {
   "cell_type": "code",
   "execution_count": null,
   "id": "1458bfcf",
   "metadata": {},
   "outputs": [],
   "source": [
    "# Create the plot with ax.plt()\n",
    "fig, ax = plt.subplots()\n",
    "ax.barh(x_axis, y_axis, color=\"cyan\", label = \"Chicago\")\n",
    "#Invert the y-axis data.\n",
    "plt.gca().invert_yaxis()\n",
    "# Create labels for the x and y axes.\n",
    "ax.set_xlabel(\"Date\")\n",
    "ax.set_ylabel(\"Fare($)\")\n",
    "# Create a title.\n",
    "ax.set_title(\"PyBer Fare by Month\")\n",
    "# Add the legend\n",
    "ax.legend()\n",
    "# Add the grid\n",
    "ax.grid()"
   ]
  },
  {
   "cell_type": "code",
   "execution_count": null,
   "id": "ab8bfbd1",
   "metadata": {},
   "outputs": [],
   "source": [
    "# Create a Scatter Plot Using the MATLAB Method. Set the x-axis to a list of strings for each month.\n",
    "x_axis = [\"Jan\", \"Feb\", \"Mar\", \"April\", \"May\", \"June\", \"July\", \"Aug\", \"Sept\", \"Oct\", \"Nov\", \"Dec\"]\n",
    "\n",
    "# Set the y-axis to a list of floats as the total fare in US dollars accumulated for each month.\n",
    "y_axis = [10.02, 23.24, 39.20, 35.42, 32.34, 27.04, 43.82, 10.56, 11.85, 27.90, 20.71, 20.09]\n"
   ]
  },
  {
   "cell_type": "code",
   "execution_count": null,
   "id": "6411c9a0",
   "metadata": {},
   "outputs": [],
   "source": [
    "plt.plot(x_axis, y_axis, \"o\", color=\"red\", label='Chicago')\n",
    "# Create labels for the x and y axes.\n",
    "plt.xlabel(\"Date\")\n",
    "plt.ylabel(\"Fare($)\")\n",
    "# Create a title.\n",
    "plt.title(\"PyBer Fare by Month\")\n",
    "# Add the legend.\n",
    "plt.legend()"
   ]
  },
  {
   "cell_type": "code",
   "execution_count": null,
   "id": "621a8a7a",
   "metadata": {},
   "outputs": [],
   "source": [
    "plt.scatter(x_axis, y_axis, s=y_axis)"
   ]
  },
  {
   "cell_type": "code",
   "execution_count": null,
   "id": "d7be5082",
   "metadata": {},
   "outputs": [],
   "source": [
    "y_axis_larger = []\n",
    "for data in y_axis:\n",
    "  y_axis_larger.append(data*3)"
   ]
  },
  {
   "cell_type": "code",
   "execution_count": null,
   "id": "d60c2816",
   "metadata": {},
   "outputs": [],
   "source": [
    "plt.scatter(x_axis, y_axis, s=y_axis_larger)"
   ]
  },
  {
   "cell_type": "code",
   "execution_count": null,
   "id": "3021f41e",
   "metadata": {},
   "outputs": [],
   "source": [
    "plt.scatter(x_axis, y_axis, s = [i * 3 for i in y_axis], color=\"green\")"
   ]
  },
  {
   "cell_type": "code",
   "execution_count": null,
   "id": "0d4a0aac",
   "metadata": {},
   "outputs": [],
   "source": [
    "fig, ax = plt.subplots()\n",
    "ax.scatter(x_axis, y_axis)"
   ]
  },
  {
   "cell_type": "code",
   "execution_count": null,
   "id": "2926bf9d",
   "metadata": {},
   "outputs": [],
   "source": [
    "#SKILL DRILL Create a Bubble Chart Using the Object-Oriented Interface\n",
    "fig, ax = plt.subplots()\n",
    "ax.scatter(y_axis, x_axis, [i * 3 for i in y_axis], color=\"green\", label = \"Boston\")\n",
    "#Invert the y-axis data.\n",
    "plt.gca().invert_yaxis()\n",
    "# Create labels for the x and y axes.\n",
    "ax.set_xlabel(\"Date\")\n",
    "ax.set_ylabel(\"Fare($)\")\n",
    "# Create a title.\n",
    "ax.set_title(\"PyBer Fare by Month\")\n",
    "# Add the legend\n",
    "ax.legend()\n",
    "# Add the grid\n",
    "ax.grid()"
   ]
  },
  {
   "cell_type": "code",
   "execution_count": null,
   "id": "9e7d59b0",
   "metadata": {},
   "outputs": [],
   "source": [
    "#Create a Create a Pie Chart Using the MATLAB Method\n",
    "explode_values = (0, 0, 0, 0, 0, 0, 0.2, 0, 0, 0, 0, 0)\n",
    "plt.pie(y_axis, explode=explode_values, labels=x_axis, autopct='%.1f%%')\n",
    "plt.show()"
   ]
  },
  {
   "cell_type": "code",
   "execution_count": null,
   "id": "b106afdd",
   "metadata": {},
   "outputs": [],
   "source": [
    "# Assign 12 colors, one for each month.\n",
    "colors = [\"slateblue\", \"magenta\", \"lightblue\", \"green\", \"yellowgreen\", \"greenyellow\", \"yellow\", \"orange\", \"gold\", \"indianred\", \"tomato\", \"mistyrose\"]\n",
    "explode_values = (0, 0, 0, 0, 0, 0, 0.2, 0, 0, 0, 0, 0)\n",
    "plt.subplots(figsize=(8, 8))\n",
    "plt.pie(y_axis,\n",
    "    explode=explode_values,\n",
    "    colors=colors,\n",
    "    labels=x_axis,\n",
    "    autopct='%.1f%%')\n",
    "\n",
    "plt.show()\n"
   ]
  },
  {
   "cell_type": "code",
   "execution_count": null,
   "id": "d035f584",
   "metadata": {},
   "outputs": [],
   "source": [
    "#Create a Pie Chart Using the Object-Oriented Interface\n",
    "fig, ax = plt.subplots()\n",
    "ax.pie(y_axis,explode=explode_values,\n",
    "    colors=colors,\n",
    "    labels=x_axis,\n",
    "    autopct='%.1f%%')\n",
    "plt.show()"
   ]
  },
  {
   "cell_type": "code",
   "execution_count": null,
   "id": "cc7a107f",
   "metadata": {},
   "outputs": [],
   "source": [
    "## SKILL DRILL Create a Pie Chart Using the Object-Oriented Interface\n",
    "#Increase the figure size to 8x8\n",
    "fig, ax = plt.subplots(figsize=(8, 8))\n",
    "#... Add a start angle so that January is at the top. Add a shadow. Explode the two highest percentage months.\n",
    "explode_values_2 = (0, 0, 0.2, 0, 0, 0, 0.2, 0, 0, 0, 0, 0)\n",
    "ax.pie(y_axis,explode=explode_values_2,\n",
    "    colors=colors,\n",
    "    labels=x_axis,shadow=True,startangle=-95,\n",
    "    autopct='%.1f%%')\n",
    "#Invert the y-axis data. Reverse the order so that the month order is in a clockwise direction.\n",
    "plt.gca().invert_yaxis()\n",
    "#plt.axis(\"equal\")\n",
    "#Add new colors of your own choosing or use the colors from the previous pie chart.\n",
    "\n",
    "plt.show()"
   ]
  },
  {
   "cell_type": "code",
   "execution_count": null,
   "id": "e0a3f85b",
   "metadata": {},
   "outputs": [],
   "source": []
  },
  {
   "cell_type": "code",
   "execution_count": null,
   "id": "2373f1e6",
   "metadata": {},
   "outputs": [],
   "source": []
  }
 ],
 "metadata": {
  "kernelspec": {
   "display_name": "PythonData",
   "language": "python",
   "name": "pythondata"
  },
  "language_info": {
   "codemirror_mode": {
    "name": "ipython",
    "version": 3
   },
   "file_extension": ".py",
   "mimetype": "text/x-python",
   "name": "python",
   "nbconvert_exporter": "python",
   "pygments_lexer": "ipython3",
   "version": "3.8.8"
  }
 },
 "nbformat": 4,
 "nbformat_minor": 5
}
